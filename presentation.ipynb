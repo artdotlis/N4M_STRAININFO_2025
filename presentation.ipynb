{
 "cells": [
  {
   "cell_type": "markdown",
   "id": "4d1f6fdf-dfc0-44e8-bae1-4b912f545df3",
   "metadata": {},
   "source": [
    "## Dependencies\n",
    "\n",
    "1. git\n",
    "2. python >= 3.13\n",
    "3. Requests - `pip install requests`\n",
    "4. SAIM - `pip install saim@git+https://github.com/LeibnizDSMZ/saim.git@v0.9.1`\n",
    "5. CAFI - `pip install cafi@git+https://github.com/LeibnizDSMZ/cafi.git@v0.9.3`"
   ]
  },
  {
   "cell_type": "markdown",
   "id": "e7f7026d-0d87-4c1e-9c5f-da71afbb6d47",
   "metadata": {},
   "source": [
    "## Installation - Linux\n",
    "\n",
    "1. **Run `git clone https://github.com/artdotlis/N4M_STRAININFO_2025.git`** to download the repository.\n",
    "2. **Run `make install`** to install dependencies and set up the environment.\n",
    "3. **Run `make activate`** to activate the environment."
   ]
  },
  {
   "cell_type": "markdown",
   "id": "dd2a6deb-77e0-4759-9eda-4093eb4a3478",
   "metadata": {},
   "source": [
    "\n",
    "## Installation - Windows/Linux/Mac\n",
    "\n",
    "1. **Run `git clone https://github.com/artdotlis/N4M_STRAININFO_2025.git`** to download the repository.\n",
    "2. **Run `python -m venv .venv`** to set up the environment.\n",
    "3. Activate environment\n",
    "   - Windows - **Run `.\\.venv\\Scripts\\activate`**\n",
    "   - Linux/Mac - **Run `source .venv/bin/activate`**\n",
    "4. **Run `pip install .`** to install dependencies."
   ]
  },
  {
   "cell_type": "markdown",
   "id": "cf52fe7d-a0fe-46b9-a25f-05f837339da3",
   "metadata": {},
   "source": [
    "## Resources\n",
    "\n",
    "1. **Implement your solution**  \n",
    "   The main implementation file for the solution can be found here:  \n",
    "   `src/n4m_straininfo_2025/main.py`\n",
    "\n",
    "2. **Recommended functions to use**  \n",
    "   To save time, refer to the recommended functions in the library folder:  \n",
    "   `src/n4m_straininfo_2025/lib`\n",
    "\n",
    "3. **Tips for each step**  \n",
    "   Helpful tips for each step are provided here (spoiler alert!):  \n",
    "   `src/n4m_straininfo_2025/tips`"
   ]
  },
  {
   "cell_type": "markdown",
   "id": "fa56cb9a-3581-4b33-b066-5c0647cd724d",
   "metadata": {},
   "source": [
    "## 1. Get abstract for DOI: 10.1093/femsle/fnad030\n",
    "\n",
    "- Use the **OpenAlex API** and **requests** to fetch the abstract.\n",
    "- **OpenAlex API** - https://api.openalex.org/works/https://doi.org/10.1093/femsle/fnad030\n",
    "- Use the function **`create_abstract_from_inverted`** in `lib.helper` to process the response.\n",
    "- (Alternative): You can simply copy the abstract directly from [DOI: 10.1093/femsle/fnad030](https://doi.org/10.1093/femsle/fnad030)."
   ]
  },
  {
   "cell_type": "code",
   "execution_count": null,
   "id": "6650af44",
   "metadata": {},
   "outputs": [],
   "source": [
    "import requests\n",
    "\n",
    "OPEN_ALEX = \"https://api.openalex.org/works/https://doi.org/10.1093/femsle/fnad030\"\n",
    "\n",
    "\n",
    "def create_abstract_from_inverted(r_ind: dict[str, tuple[int, ...]], /) -> str:\n",
    "    last_ind = 0\n",
    "    for ind_v in r_ind.values():\n",
    "        new_m = max(ind_v)\n",
    "        last_ind = new_m if new_m > last_ind else last_ind\n",
    "    reversed_abs = [\"\" for _ in range(0, last_ind + 1)]\n",
    "    for key, ind_v in r_ind.items():\n",
    "        for pos in ind_v:\n",
    "            reversed_abs[pos] = key\n",
    "    return \" \".join(reversed_abs)\n",
    "\n",
    "\n",
    "def get_abstract_from_open_alex() -> str:\n",
    "    res = requests.get(OPEN_ALEX)\n",
    "    if res.status_code == 200:\n",
    "        return create_abstract_from_inverted(res.json()[\"abstract_inverted_index\"])\n",
    "    else:\n",
    "        return f\"Error: status code {res.status_code}\"\n",
    "    return \"\"\n",
    "\n",
    "\n",
    "if __name__ == \"__main__\":\n",
    "    print(get_abstract_from_open_alex())"
   ]
  },
  {
   "cell_type": "markdown",
   "id": "2d9de03f-e1f6-45cb-a3aa-521f27845814",
   "metadata": {},
   "source": [
    "## Best practices - API\n",
    "\n",
    "- Retry on failure\n",
    "- Schema checks - `pydantic`\n",
    "- Timeout - respect the requests per second limits imposed by APIs\n",
    "- Cache responses - `requests-cache`\n",
    "- Thread-/Process-based parallelism or asynchronous calls\n",
    "- Data license\n",
    "- (Optional) robots.txt"
   ]
  },
  {
   "cell_type": "markdown",
   "id": "ba0fc219-c33d-4ace-935a-30ce9e333404",
   "metadata": {},
   "source": [
    "## 2. Find all culture collection numbers in the abstract\n",
    "\n",
    "- Extract culture collection numbers from the abstract using the function **`get_ccno_from_abstract`** in `lib.helper`.\n",
    "- (Optional): Try creating a **RegEx** pattern to extract culture collection numbers with the Acronym-Number structure (**DSM 72**)."
   ]
  },
  {
   "cell_type": "code",
   "execution_count": null,
   "id": "55aced0e-7794-426e-8065-32c88ed9b0a6",
   "metadata": {},
   "outputs": [],
   "source": [
    "import re\n",
    "from typing import Final\n",
    "\n",
    "from n4m_straininfo_2025.tips.abstract_1 import get_abstract_from_open_alex\n",
    "\n",
    "\n",
    "CCNO_RE: Final[re.Pattern[str]] = re.compile(r\"\\b(ATCC\\s*\\d+)\\b\")\n",
    "\n",
    "def _get_ccno_from_abstract() -> set[str]:\n",
    "    return set(\n",
    "        res\n",
    "        for sea in re.finditer(CCNO_RE, get_abstract_from_open_alex())\n",
    "        if isinstance((res := sea.group(1)), str) and res != \"\"\n",
    "    )\n",
    "\n",
    "if __name__ == \"__main__\":\n",
    "    print(_get_ccno_from_abstract())"
   ]
  },
  {
   "cell_type": "markdown",
   "id": "2269ee69-8b00-4006-a8f8-536cce98ffb0",
   "metadata": {},
   "source": [
    "## Issue - CCNo\n",
    "\n",
    "**Complexity escalation**:\n",
    "\n",
    "- Maintainability\n",
    "- Performance\n",
    "- High resource consumption\n",
    "\n",
    "**Best practices**\n",
    "\n",
    "- Use number as anchor - `(\\d+(?:\\D\\d+)*)` 123-1.42\n",
    "- Look left to search for an acronym and prefix\n",
    "- (Optional) Look right to search for suffix\n",
    "\n",
    "-> Requires knowledge about acronyms - CAFI"
   ]
  },
  {
   "cell_type": "code",
   "execution_count": null,
   "id": "82b9333b-58ed-472e-adf8-06afeca66f19",
   "metadata": {},
   "outputs": [],
   "source": [
    "from n4m_straininfo_2025.tips.abstract_1 import get_abstract_from_open_alex\n",
    "from saim.designation.manager import AcronymManager\n",
    "\n",
    "\n",
    "def get_ccno_from_abstract(abstract: str, /) -> set[str]:\n",
    "    acronym_manager = AcronymManager(\"v0.9.3\")\n",
    "    res_ccno = acronym_manager.extract_all_valid_ccno_from_text(abstract)\n",
    "    return set(\n",
    "        ccno.designation\n",
    "        for ccno in res_ccno if ccno.acr != \"\"\n",
    "    )\n",
    "\n",
    "\n",
    "def _get_ccno_from_abstract() -> set[str]:\n",
    "    return get_ccno_from_abstract(get_abstract_from_open_alex())\n",
    "\n",
    "\n",
    "if __name__ == \"__main__\":\n",
    "    print(_get_ccno_from_abstract())"
   ]
  },
  {
   "cell_type": "markdown",
   "id": "02dbb13e-e64b-4de3-9cc2-a774ee42b4d6",
   "metadata": {},
   "source": [
    "## 3. Find *Eubacterium limosum* in the abstract**  \n",
    "\n",
    "- Search for occurrences of **`Eubacterium limosum`** within the abstract text.\n",
    "- (Recommended): Use a simple string search approach, or refer to `tips.taxa_3`"
   ]
  },
  {
   "cell_type": "code",
   "execution_count": null,
   "id": "7d258fec-e808-43fd-a031-d5a25696b404",
   "metadata": {},
   "outputs": [],
   "source": [
    "import re\n",
    "from typing import Final, Iterable\n",
    "from n4m_straininfo_2025.tips.abstract_1 import get_abstract_from_open_alex\n",
    "\n",
    "GEN_RE: Final[re.Pattern[str]] = re.compile(r\"(\\b[A-Z][a-z]+\\b)\")\n",
    "SPE_RE: Final[re.Pattern[str]] = re.compile(r\"^\\s([a-z]+)\")\n",
    "\n",
    "\n",
    "def search_regex(text: str, /) -> Iterable[tuple[int, str]]:\n",
    "    for sea in re.finditer(GEN_RE, text):\n",
    "        res = sea.group(1)\n",
    "        if isinstance(res, str) and res != \"\":\n",
    "            yield sea.start(), res\n",
    "\n",
    "\n",
    "def get_spe_name(spe_s: set[str] | None, gen: str, pos: int, full: str, /) -> str:\n",
    "    if spe_s is None:\n",
    "        return gen\n",
    "    spe_m = SPE_RE.match(full[pos + len(gen) :])\n",
    "    if spe_m is not None and spe_m.group(1) in spe_s:\n",
    "        return f\"{gen} {spe_m.group(1)}\"\n",
    "    return gen\n",
    "\n",
    "\n",
    "def extract_taxa(tax_man: dict[str, set[str] | None], abstract: str, /,) -> Iterable[str]:\n",
    "    if abstract != \"\":\n",
    "        for pos_start, match in search_regex(abstract):\n",
    "            if (gid := match.lower()) in tax_man:\n",
    "                yield get_spe_name(tax_man[gid], match, pos_start, abstract)\n",
    "\n",
    "\n",
    "def get_e_limosum_from_abstract() -> set[str]:\n",
    "    return set(\n",
    "        extract_taxa({\"eubacterium\": {\"limosum\"}}, get_abstract_from_open_alex())\n",
    "    )\n",
    "\n",
    "\n",
    "if __name__ == \"__main__\":\n",
    "    print(get_e_limosum_from_abstract())"
   ]
  },
  {
   "cell_type": "markdown",
   "id": "b53fb6ea-e8c1-4b88-9fb0-85daeda44cbf",
   "metadata": {},
   "source": [
    "## Issue - Taxonomy\n",
    "\n",
    "- Knowledge about taxonomy\n",
    "- Search word-by-word"
   ]
  },
  {
   "cell_type": "markdown",
   "id": "1d78e0c4-0120-4644-9b60-c7fe07bda8c7",
   "metadata": {},
   "source": [
    "## Issue - False positives\n",
    "\n",
    "**Found**\n",
    "- ATCC 8486\n",
    "- Eubacterium limosum\n",
    "  \n",
    "**Could these be false positives?**\n",
    "- Verify with StrainInfo API"
   ]
  },
  {
   "cell_type": "markdown",
   "id": "5a31238d-e7e8-4487-ab9d-ff66a0055da7",
   "metadata": {},
   "source": [
    "## 4. Find all strains in StrainInfo with the same CCNos found in the previous task**\n",
    "- Use the **StrainInfo API** to search for all matching strain IDs (`SI-ID`).\n",
    "- Documentation: https://straininfo.dsmz.de/service"
   ]
  },
  {
   "cell_type": "code",
   "execution_count": null,
   "id": "a150d36e-1f63-4d16-ab52-8bad7c433fbd",
   "metadata": {},
   "outputs": [],
   "source": [
    "import requests\n",
    "from n4m_straininfo_2025.lib.helper import get_ccno_from_abstract\n",
    "from n4m_straininfo_2025.tips.abstract_1 import get_abstract_from_open_alex\n",
    "\n",
    "SI_IDS = \"https://api.straininfo.dsmz.de/v2/search/strain/cc_no/\"\n",
    "\n",
    "\n",
    "def get_si_ids_for_ccnos() -> set[str]:\n",
    "    ccnos = get_ccno_from_abstract(get_abstract_from_open_alex())\n",
    "    res = requests.get(SI_IDS + \",\".join(ccnos))\n",
    "    if res.status_code == 200:\n",
    "        return set(res.json())\n",
    "    return set()\n",
    "\n",
    "\n",
    "if __name__ == \"__main__\":\n",
    "    print(get_si_ids_for_ccnos())"
   ]
  },
  {
   "cell_type": "markdown",
   "id": "511ba2f7-2e3a-4aa1-bc6c-d962fc9fc5ce",
   "metadata": {},
   "source": [
    "## Best practices - StrainInfo API\n",
    "\n",
    "- Bundle requests - make one request instead of multiple"
   ]
  },
  {
   "cell_type": "markdown",
   "id": "abdd30c3-24f3-42e5-b284-26ac10a111f1",
   "metadata": {},
   "source": [
    "## 5. Check if the strains overlap with detected taxonomy\n",
    "\n",
    "- Use the **StrainInfo API** to retrieve information about the strain.\n",
    "- Compare each strain's taxonomy with the detected taxonomy.\n",
    "- Print the following for each matched strain:\n",
    "  - **SI-ID**\n",
    "  - **Strain deposit designation**\n",
    "  - **Taxonomy**"
   ]
  },
  {
   "cell_type": "code",
   "execution_count": null,
   "id": "b0a268e0-dc87-49cf-8f23-fa3dc731138a",
   "metadata": {},
   "outputs": [],
   "source": [
    "import requests\n",
    "from typing import Iterable\n",
    "from n4m_straininfo_2025.tips.si_ids_4 import get_si_ids_for_ccnos\n",
    "from n4m_straininfo_2025.tips.taxa_3 import get_e_limosum_from_abstract\n",
    "\n",
    "\n",
    "STRAIN = \"https://api.straininfo.dsmz.de/v2/data/strain/min/\"\n",
    "\n",
    "\n",
    "def get_matched_strains() -> Iterable[tuple[int, str, str]]:\n",
    "    taxa = get_e_limosum_from_abstract()\n",
    "    si_ids = get_si_ids_for_ccnos()\n",
    "    res = requests.get(STRAIN + \",\".join(str(si_id) for si_id in si_ids))\n",
    "    if res.status_code == 200:\n",
    "        for strain in res.json():\n",
    "            if strain[\"strain\"][\"taxon\"][\"name\"] in taxa:\n",
    "                yield (\n",
    "                    strain[\"strain\"][\"siID\"], \n",
    "                    \",\".join(\n",
    "                        dep[\"designation\"]\n",
    "                        for dep in strain[\"strain\"][\"relation\"][\"deposit\"]\n",
    "                    ),\n",
    "                    strain[\"strain\"][\"taxon\"][\"name\"] \n",
    "                )\n",
    "\n",
    "\n",
    "if __name__ == \"__main__\":\n",
    "    for line in get_matched_strains():\n",
    "        print(\"STRAIN:\")\n",
    "        print(\"\\n\\t\".join(str(ele) for ele in line))\n"
   ]
  },
  {
   "cell_type": "markdown",
   "id": "3f68dba3-800a-4f9d-9fe4-b9cb468a0f67",
   "metadata": {},
   "source": [
    "## Best practices - Verification\n",
    "\n",
    "- Links reduce false positives"
   ]
  }
 ],
 "metadata": {
  "kernelspec": {
   "display_name": "Python 3 (ipykernel)",
   "language": "python",
   "name": "python3"
  },
  "language_info": {
   "codemirror_mode": {
    "name": "ipython",
    "version": 3
   },
   "file_extension": ".py",
   "mimetype": "text/x-python",
   "name": "python",
   "nbconvert_exporter": "python",
   "pygments_lexer": "ipython3",
   "version": "3.13.7"
  }
 },
 "nbformat": 4,
 "nbformat_minor": 5
}
